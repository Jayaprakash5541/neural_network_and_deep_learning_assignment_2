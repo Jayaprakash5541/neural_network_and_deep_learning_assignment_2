{
  "nbformat": 4,
  "nbformat_minor": 0,
  "metadata": {
    "colab": {
      "provenance": []
    },
    "kernelspec": {
      "name": "python3",
      "display_name": "Python 3"
    },
    "language_info": {
      "name": "python"
    }
  },
  "cells": [
    {
      "cell_type": "markdown",
      "source": [
        "1)Write a program that takes two strings from the user: first_name, last_name. Pass these variables to\n",
        "fullname function that should return the (full name).\n"
      ],
      "metadata": {
        "id": "aI-6xz4C0tou"
      }
    },
    {
      "cell_type": "code",
      "execution_count": 5,
      "metadata": {
        "colab": {
          "base_uri": "https://localhost:8080/"
        },
        "id": "mxwBFHJOgfVa",
        "outputId": "0faf3f82-784d-467b-85f5-422fcc759df6"
      },
      "outputs": [
        {
          "name": "stdout",
          "output_type": "stream",
          "text": [
            "Type First Name:jayaprakash\n",
            "Type Last name:Reddy\n"
          ]
        }
      ],
      "source": [
        "first_name=input(\"Type First Name:\")\n",
        "last_name=input(\"Type Last name:\")\n",
        "\n",
        "def Full_name(string1,string2):\n",
        "  print(string1+\" \"+string2)\n",
        "  Full_name(first_name,last_name)"
      ]
    },
    {
      "cell_type": "markdown",
      "source": [
        "Write function named “string_alternative” that returns every other char in the full_name string."
      ],
      "metadata": {
        "id": "fxmz6xHG1Ext"
      }
    },
    {
      "cell_type": "code",
      "source": [
        "def string_alternative(str):\n",
        "  output=str[::2]\n",
        "  print(output)\n",
        "def main():\n",
        "    x=input(\"Type the word:\")\n",
        "    string_alternative(x)\n",
        "if __name__==\"__main__\":\n",
        "      main()\n"
      ],
      "metadata": {
        "colab": {
          "base_uri": "https://localhost:8080/"
        },
        "id": "0uRCPXd9iwmo",
        "outputId": "60cb8ee4-4d29-4073-b8ea-a10d8c1f4e6b"
      },
      "execution_count": 15,
      "outputs": [
        {
          "output_type": "stream",
          "name": "stdout",
          "text": [
            "Type the word:python \n",
            "pto \n"
          ]
        }
      ]
    },
    {
      "cell_type": "markdown",
      "source": [
        "2)Write a python program to find the wordcount in a file (input.txt) for each line and then print the output:"
      ],
      "metadata": {
        "id": "BNLn846v12Y9"
      }
    },
    {
      "cell_type": "code",
      "source": [
        "input_file = open(r\"/content/input.txt\",\"r\")\n",
        "value={}\n",
        "for p in input_file:\n",
        "  x=p.strip().split()\n",
        "  for q in x:\n",
        "    if q in value:\n",
        "      value[q] +=1\n",
        "    else:\n",
        "      value[q]=1\n",
        "input_file.close()\n",
        "openfile=open(\"output.txt\",\"w\")\n",
        "for p,q in value.items():\n",
        "  print(p,q)\n",
        "  openfile.write(p+\":\"+str(q)+\"\\n\")\n",
        "\n",
        "openfile.close()"
      ],
      "metadata": {
        "colab": {
          "base_uri": "https://localhost:8080/"
        },
        "id": "w3GD5A6f1vPZ",
        "outputId": "f84bce58-a5f4-49cd-ca0c-d3765ae8b146"
      },
      "execution_count": 32,
      "outputs": [
        {
          "output_type": "stream",
          "name": "stdout",
          "text": [
            "Python 1\n",
            "Course 2\n",
            "Deep 1\n",
            "Learning 1\n"
          ]
        }
      ]
    },
    {
      "cell_type": "markdown",
      "source": [
        "3)Write a program, which reads heights (inches.) of customers into a list and convert these\n",
        "heights to centimeters in a separate list using:\n",
        "1) Nested Interactive loop.\n",
        "2) List comprehensions"
      ],
      "metadata": {
        "id": "Z-6uL-yg1-g_"
      }
    },
    {
      "cell_type": "code",
      "source": [
        "l1=[]\n",
        "l2=[]\n",
        "value=int(input(\"Type the count of customers:\"))\n",
        "for x in range(0,value):\n",
        "  x=int(input())\n",
        "  l1.append(x)\n",
        "print(l1)\n",
        "for i in l1:\n",
        "  i==i/2.54\n",
        "  j=round(i,2)\n",
        "  l2.append(j)\n",
        "print(l2)\n"
      ],
      "metadata": {
        "colab": {
          "base_uri": "https://localhost:8080/"
        },
        "id": "5x4JkUxzkZC_",
        "outputId": "06411a07-ca42-4297-9f40-ec7bf511dd40"
      },
      "execution_count": 19,
      "outputs": [
        {
          "output_type": "stream",
          "name": "stdout",
          "text": [
            "Type the count of customers:4\n",
            "125\n",
            "234\n",
            "231\n",
            "123\n",
            "[125, 234, 231, 123]\n",
            "[125, 234, 231, 123]\n"
          ]
        }
      ]
    },
    {
      "cell_type": "code",
      "source": [],
      "metadata": {
        "id": "Y2ua7USo1sow"
      },
      "execution_count": null,
      "outputs": []
    },
    {
      "cell_type": "code",
      "source": [],
      "metadata": {
        "id": "3vounaEp1y8w"
      },
      "execution_count": null,
      "outputs": []
    },
    {
      "cell_type": "code",
      "source": [],
      "metadata": {
        "id": "jobAm4cewxr4"
      },
      "execution_count": null,
      "outputs": []
    }
  ]
}